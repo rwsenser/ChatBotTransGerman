{
 "cells": [
  {
   "cell_type": "code",
   "execution_count": 1,
   "metadata": {},
   "outputs": [
    {
     "name": "stderr",
     "output_type": "stream",
     "text": [
      "2021-09-02 10:10:13.065345: W tensorflow/stream_executor/platform/default/dso_loader.cc:64] Could not load dynamic library 'libcudart.so.11.0'; dlerror: libcudart.so.11.0: cannot open shared object file: No such file or directory\n",
      "2021-09-02 10:10:13.065400: I tensorflow/stream_executor/cuda/cudart_stub.cc:29] Ignore above cudart dlerror if you do not have a GPU set up on your machine.\n"
     ]
    },
    {
     "name": "stdout",
     "output_type": "stream",
     "text": [
      "Tags: \n",
      "['date', 'greeting', 'goodbye', 'thanks', 'noanswer', 'options', 'quatch', 'doch', 'nein', 'ja', 'stimmt']\n",
      "Pats\n",
      "[['What is today?', 'Today is?'], ['Hi there', 'How are you', 'Is anyone there?', 'Hey', 'Hola', 'Hello', 'Good day'], ['Bye', 'See you later', 'Goodbye', 'Nice chatting to you, bye', 'Till next time'], ['Thanks', 'Thank you', \"That's helpful\", 'Awesome, thanks', 'Thanks for helping me'], [], ['How you could help me?', 'What you can do?', 'What help you provide?', 'How you can be helpful?', 'What support is offered'], ['What does quatsch mean?', 'Quatch means what?'], ['What does dock mean?', 'Doch means what?'], ['What does nein mean in German', 'Nein means what?'], ['What does ja mean?', 'Ja means what?'], ['What does stimmt mean?', 'Stimmt means what?']]\n"
     ]
    },
    {
     "name": "stderr",
     "output_type": "stream",
     "text": [
      "2021-09-02 10:10:14.468118: W tensorflow/stream_executor/platform/default/dso_loader.cc:64] Could not load dynamic library 'libcuda.so.1'; dlerror: libcuda.so.1: cannot open shared object file: No such file or directory\n",
      "2021-09-02 10:10:14.468175: W tensorflow/stream_executor/cuda/cuda_driver.cc:326] failed call to cuInit: UNKNOWN ERROR (303)\n",
      "2021-09-02 10:10:14.468220: I tensorflow/stream_executor/cuda/cuda_diagnostics.cc:156] kernel driver does not appear to be running on this host (DESKTOP-964CGUG): /proc/driver/nvidia/version does not exist\n",
      "2021-09-02 10:10:14.468563: I tensorflow/core/platform/cpu_feature_guard.cc:142] This TensorFlow binary is optimized with oneAPI Deep Neural Network Library (oneDNN) to use the following CPU instructions in performance-critical operations:  AVX2 FMA\n",
      "To enable them in other operations, rebuild TensorFlow with the appropriate compiler flags.\n"
     ]
    }
   ],
   "source": [
    "# Bot3.ipynb\n",
    "# the bot, mugged...\n",
    "#  Supports changing *date* to the day of week\n",
    "#\n",
    "from tensorflow.keras.models import load_model\n",
    "model = load_model('chatbot_model.h5')\n",
    "import json\n",
    "import random\n",
    "import pickle\n",
    "intents = json.loads(open('intents3.json').read())\n",
    "tags = []\n",
    "pats = []\n",
    "for i in intents['intents']:\n",
    "    # print(i['tag'])\n",
    "    tags.append(i['tag'])\n",
    "    pats.append(i['patterns'])\n",
    "print(\"Tags: \")\n",
    "print(tags)\n",
    "print(\"Pats\")\n",
    "print(pats)\n",
    "# print(\"intents: \", intents)\n",
    "words = pickle.load(open('words.pkl','rb'))\n",
    "classes = pickle.load(open('classes.pkl','rb'))"
   ]
  },
  {
   "cell_type": "code",
   "execution_count": 2,
   "metadata": {},
   "outputs": [],
   "source": [
    "def clean_up_sentence(sentence):\n",
    "    sentence_words = nltk.word_tokenize(sentence)\n",
    "    sentence_words = [lemmatizer.lemmatize(word.lower()) for word in sentence_words]\n",
    "    return sentence_words\n",
    "\n",
    "# return bag of words array: 0 or 1 for each word in the bag that exists in the sentence\n",
    "\n",
    "def bow(sentence, words, show_details=True):\n",
    "    # tokenize the pattern\n",
    "    sentence_words = clean_up_sentence(sentence)\n",
    "    # bag of words - matrix of N words, vocabulary matrix\n",
    "    bag = [0]*len(words)\n",
    "    for s in sentence_words:\n",
    "        if show_details:  # bob was here\n",
    "            print(\"word: %s\" % s)\n",
    "        for i,w in enumerate(words):\n",
    "            if w == s:\n",
    "                # assign 1 if current word is in the vocabulary position\n",
    "                bag[i] = 1\n",
    "                if show_details:\n",
    "                    print (\"found in bag: %s\" % w)\n",
    "    return(np.array(bag))\n",
    "\n",
    "def predict_class(sentence, model):\n",
    "    # filter out predictions below a threshold\n",
    "    p = bow(sentence, words,show_details=False)\n",
    "    res = model.predict(np.array([p]))[0]\n",
    "    ERROR_THRESHOLD = 0.25\n",
    "    results = [[i,r] for i,r in enumerate(res) if r>ERROR_THRESHOLD]\n",
    "    # sort by strength of probability\n",
    "    results.sort(key=lambda x: x[1], reverse=True)\n",
    "    return_list = []\n",
    "    for r in results:\n",
    "        return_list.append({\"intent\": classes[r[0]], \"probability\": str(r[1])})\n",
    "    return return_list\n",
    "\n",
    "def getResponse(ints, intents_json):\n",
    "    # print(\"ints: \", ints)\n",
    "    tag = ints[0]['intent']\n",
    "    # print(\"tag: \", tag)\n",
    "    # print(\"intents: \", intents)\n",
    "    list_of_intents = intents_json['intents']\n",
    "    for i in list_of_intents:\n",
    "        if (i['tag']== tag):\n",
    "            result = random.choice(i['responses'])\n",
    "            break\n",
    "        c_list = i['context']\n",
    "        # print(\"cList[0]: \", c_list[0])        \n",
    "        if len(c_list[0]) > 0:\n",
    "            print(\"Current context: \", i['context'])\n",
    "    # print(\"result: \", result)        \n",
    "    return result\n",
    "\n",
    "def chatbot_response(msg):\n",
    "    ints = predict_class(msg, model)\n",
    "    res = getResponse(ints, intents)\n",
    "    return res"
   ]
  },
  {
   "cell_type": "code",
   "execution_count": 3,
   "metadata": {},
   "outputs": [
    {
     "name": "stdout",
     "output_type": "stream",
     "text": [
      "You: what does quatsch mean?\n"
     ]
    },
    {
     "name": "stderr",
     "output_type": "stream",
     "text": [
      "2021-09-02 10:10:28.360046: I tensorflow/compiler/mlir/mlir_graph_optimization_pass.cc:176] None of the MLIR Optimization Passes are enabled (registered 2)\n",
      "2021-09-02 10:10:28.360897: I tensorflow/core/platform/profile_utils/cpu_utils.cc:114] CPU Frequency: 1992000000 Hz\n"
     ]
    },
    {
     "name": "stdout",
     "output_type": "stream",
     "text": [
      ">>> Bot:  Quatsch translates to nonsense.\n",
      "You: What is nein?\n",
      ">>> Bot:  Nein translates to no.\n",
      "You: what is ja?\n",
      ">>> Bot:  Ja means yes.\n",
      "You: hello\n",
      ">>> Bot:  Hello, thanks for asking\n",
      "You: greetings\n",
      ">>> Bot:  Good to see you again\n",
      "You: what do you do?\n",
      ">>> Bot:  I can guide you through the meaning of a few German words. \n",
      "You: exit\n",
      ">>> Done!\n"
     ]
    }
   ],
   "source": [
    "#Creating Text GUI\n",
    "import nltk\n",
    "from nltk.stem import WordNetLemmatizer\n",
    "lemmatizer = WordNetLemmatizer()\n",
    "import numpy as np\n",
    "from datetime import date\n",
    "wordy = False\n",
    "#\n",
    "while True:\n",
    "    if wordy == True:\n",
    "        print(\"Tags: \")\n",
    "        print(tags)\n",
    "        print(\"Pats: \")\n",
    "        print(pats)\n",
    "    msg = input(\"You: \")\n",
    "    if msg == \"exit\":\n",
    "        break;\n",
    "    res = chatbot_response(msg)\n",
    "    # parse for *date* and replace with date.today()\n",
    "    # DEBUG, off\n",
    "    # today = date.today().strftime(\"%A\")  #(\"%m/%d/%Y\")\n",
    "    # res = res.replace(\"*date*\", today)\n",
    "    print(\">>> Bot: \", res)\n",
    "print(\">>> Done!\")\n",
    "#        res = chatbot_response(msg)\n",
    "#        ChatLog.insert(END, \"Bot: \" + res + '\\n\\n')\n"
   ]
  },
  {
   "cell_type": "code",
   "execution_count": null,
   "metadata": {},
   "outputs": [],
   "source": []
  },
  {
   "cell_type": "code",
   "execution_count": null,
   "metadata": {},
   "outputs": [],
   "source": []
  }
 ],
 "metadata": {
  "kernelspec": {
   "display_name": "Python 3 (ipykernel)",
   "language": "python",
   "name": "python3"
  },
  "language_info": {
   "codemirror_mode": {
    "name": "ipython",
    "version": 3
   },
   "file_extension": ".py",
   "mimetype": "text/x-python",
   "name": "python",
   "nbconvert_exporter": "python",
   "pygments_lexer": "ipython3",
   "version": "3.8.10"
  }
 },
 "nbformat": 4,
 "nbformat_minor": 4
}
